{
 "cells": [
  {
   "cell_type": "markdown",
   "id": "6c883dd3-7efb-42f3-8eeb-aca8f50691c9",
   "metadata": {},
   "source": [
    "# Input\n",
    "\n",
    "A material is any of the following:\n",
    "\n",
    "1. A text\n",
    "2. A recording\n",
    "3. A PDF"
   ]
  },
  {
   "cell_type": "markdown",
   "id": "58b5f52d-b5ae-4d79-921e-114c1aaf467c",
   "metadata": {},
   "source": [
    "## Text Input"
   ]
  },
  {
   "cell_type": "code",
   "execution_count": 20,
   "id": "d4ac310f-c1c9-4c12-a59d-9875e0e8dd15",
   "metadata": {},
   "outputs": [
    {
     "name": "stdin",
     "output_type": "stream",
     "text": [
      "Insert text note:  wew\n"
     ]
    },
    {
     "name": "stdout",
     "output_type": "stream",
     "text": [
      "wew\n"
     ]
    }
   ],
   "source": [
    "text_note = input(\"Insert text note: \")\n",
    "print(text_note)"
   ]
  },
  {
   "cell_type": "markdown",
   "id": "ae957618-de68-437d-8904-c5788544adbf",
   "metadata": {},
   "source": [
    "## Recording Input"
   ]
  },
  {
   "cell_type": "code",
   "execution_count": 63,
   "id": "cc2b3c03-7ad4-4575-bd33-2e57c254b5c2",
   "metadata": {},
   "outputs": [
    {
     "name": "stderr",
     "output_type": "stream",
     "text": [
      "No model was supplied, defaulted to facebook/wav2vec2-base-960h and revision 55bb623 (https://huggingface.co/facebook/wav2vec2-base-960h).\n",
      "Using a pipeline without specifying a model name and revision in production is not recommended.\n",
      "Some weights of the model checkpoint at facebook/wav2vec2-base-960h were not used when initializing Wav2Vec2ForCTC: ['wav2vec2.encoder.pos_conv_embed.conv.weight_v', 'wav2vec2.encoder.pos_conv_embed.conv.weight_g']\n",
      "- This IS expected if you are initializing Wav2Vec2ForCTC from the checkpoint of a model trained on another task or with another architecture (e.g. initializing a BertForSequenceClassification model from a BertForPreTraining model).\n",
      "- This IS NOT expected if you are initializing Wav2Vec2ForCTC from the checkpoint of a model that you expect to be exactly identical (initializing a BertForSequenceClassification model from a BertForSequenceClassification model).\n",
      "Some weights of Wav2Vec2ForCTC were not initialized from the model checkpoint at facebook/wav2vec2-base-960h and are newly initialized: ['wav2vec2.encoder.pos_conv_embed.conv.parametrizations.weight.original0', 'wav2vec2.masked_spec_embed', 'wav2vec2.encoder.pos_conv_embed.conv.parametrizations.weight.original1']\n",
      "You should probably TRAIN this model on a down-stream task to be able to use it for predictions and inference.\n"
     ]
    }
   ],
   "source": [
    "from transformers import pipeline\n",
    "asr = pipeline(\"automatic-speech-recognition\");"
   ]
  },
  {
   "cell_type": "code",
   "execution_count": 12,
   "id": "88b9887b-e4b5-4fcc-b537-58541682bf93",
   "metadata": {},
   "outputs": [
    {
     "data": {
      "text/plain": [
       "{'text': 'IT IS ELEVINDIN CASIEN NISIN NORING IS ITS MILE WARE MAY SEND A LITTLE NAY IN THE GENEW WITH RAWMEN I HAD DELDA FRAIL'}"
      ]
     },
     "execution_count": 12,
     "metadata": {},
     "output_type": "execute_result"
    }
   ],
   "source": [
    "record_note = asr(\"audio_samples/sample-1.mp3\")\n",
    "record_note"
   ]
  },
  {
   "cell_type": "code",
   "execution_count": 11,
   "id": "9c3dadc9-69a9-4d6f-b21b-e98bc3dd7c44",
   "metadata": {},
   "outputs": [
    {
     "data": {
      "text/plain": [
       "'it is elevindin casien nisin noring is its mile ware may send a little nay in the genew with rawmen i had delda frail'"
      ]
     },
     "execution_count": 11,
     "metadata": {},
     "output_type": "execute_result"
    }
   ],
   "source": [
    "record_note['text'].lower()"
   ]
  },
  {
   "cell_type": "markdown",
   "id": "c918a900-b6c5-4e7b-bbb2-cda843b708eb",
   "metadata": {
    "tags": []
   },
   "source": [
    "## PDF Input"
   ]
  },
  {
   "cell_type": "code",
   "execution_count": 25,
   "id": "0264c528-e8c1-48e3-871a-8be7fcaa31e6",
   "metadata": {},
   "outputs": [
    {
     "data": {
      "text/plain": [
       "<AddedDllDirectory('C:\\\\Program Files\\\\GTK3-Runtime Win64\\\\bin')>"
      ]
     },
     "execution_count": 25,
     "metadata": {},
     "output_type": "execute_result"
    }
   ],
   "source": [
    "import os\n",
    "\n",
    "os.add_dll_directory(r\"C:\\Program Files\\GTK3-Runtime Win64\\bin\")"
   ]
  },
  {
   "cell_type": "code",
   "execution_count": 27,
   "id": "717c3e21-9292-4981-b9a4-069635d229c7",
   "metadata": {},
   "outputs": [],
   "source": [
    "# insert the GTK3 Runtime folder at the beginning. Can be bin or lib, depending on path you choose while installing.\n",
    "GTK_FOLDER = r'C:\\Program Files\\GTK3-Runtime Win64\\bin'\n",
    "os.environ['PATH'] = GTK_FOLDER + os.pathsep + os.environ.get('PATH', '')"
   ]
  },
  {
   "cell_type": "code",
   "execution_count": 30,
   "id": "1c7b3bd1-5824-495e-bfc7-9fe9d150f45a",
   "metadata": {},
   "outputs": [],
   "source": [
    "\n",
    "from doctr.io import DocumentFile\n",
    "from doctr.models import ocr_predictor"
   ]
  },
  {
   "cell_type": "code",
   "execution_count": 28,
   "id": "02d0803d-b9b4-44d8-bf4f-e3d4621284f5",
   "metadata": {},
   "outputs": [
    {
     "name": "stdout",
     "output_type": "stream",
     "text": [
      "Downloading https://doctr-static.mindee.com/models?id=v0.3.1/db_resnet50-ac60cadc.pt&src=0 to C:\\Users\\Lyle\\.cache\\doctr\\models\\db_resnet50-ac60cadc.pt\n"
     ]
    },
    {
     "data": {
      "application/vnd.jupyter.widget-view+json": {
       "model_id": "1f40e0f253d249fa9fac461e7fddac58",
       "version_major": 2,
       "version_minor": 0
      },
      "text/plain": [
       "  0%|          | 0/101971449 [00:00<?, ?it/s]"
      ]
     },
     "metadata": {},
     "output_type": "display_data"
    },
    {
     "name": "stdout",
     "output_type": "stream",
     "text": [
      "Downloading https://doctr-static.mindee.com/models?id=v0.3.1/crnn_vgg16_bn-9762b0b0.pt&src=0 to C:\\Users\\Lyle\\.cache\\doctr\\models\\crnn_vgg16_bn-9762b0b0.pt\n"
     ]
    },
    {
     "data": {
      "application/vnd.jupyter.widget-view+json": {
       "model_id": "513c4778bedc47ae8eb6d7551a9f1e91",
       "version_major": 2,
       "version_minor": 0
      },
      "text/plain": [
       "  0%|          | 0/63286381 [00:00<?, ?it/s]"
      ]
     },
     "metadata": {},
     "output_type": "display_data"
    }
   ],
   "source": [
    "model = ocr_predictor(det_arch='db_resnet50', reco_arch='crnn_vgg16_bn', pretrained=True)"
   ]
  },
  {
   "cell_type": "code",
   "execution_count": 31,
   "id": "fa281dde-e9a9-4d13-b0c6-307659bc1f9d",
   "metadata": {},
   "outputs": [
    {
     "name": "stdout",
     "output_type": "stream",
     "text": [
      "Number of pages: 2\n"
     ]
    }
   ],
   "source": [
    "doc = DocumentFile.from_pdf(\"pdf_samples/pdf_sample.pdf\")\n",
    "print(f\"Number of pages: {len(doc)}\")"
   ]
  },
  {
   "cell_type": "code",
   "execution_count": 34,
   "id": "a9dc84ee-024b-4e5f-abb7-db66263026e8",
   "metadata": {},
   "outputs": [
    {
     "name": "stdout",
     "output_type": "stream",
     "text": [
      "Document(\n",
      "  (pages): [\n",
      "    Page(\n",
      "      dimensions=(1584, 1224)\n",
      "      (blocks): [\n",
      "        Block(\n",
      "          (lines): [\n",
      "            Line(\n",
      "              (words): [\n",
      "                Word(value='A', confidence=1.0),\n",
      "                Word(value='Simple', confidence=1.0),\n",
      "                Word(value='PDF', confidence=1.0),\n",
      "                Word(value='File', confidence=1.0),\n",
      "              ]\n",
      "            ),\n",
      "            Line(\n",
      "              (words): [\n",
      "                Word(value='This', confidence=1.0),\n",
      "                Word(value='is', confidence=1.0),\n",
      "                Word(value='as', confidence=0.98),\n",
      "                Word(value='small', confidence=0.99),\n",
      "                Word(value='demonstration', confidence=0.92),\n",
      "                Word(value='pdf', confidence=0.62),\n",
      "                Word(value='file', confidence=0.46),\n",
      "                Word(value='-', confidence=1.0),\n",
      "              ]\n",
      "            ),\n",
      "          ]\n",
      "          (artefacts): []\n",
      "        ),\n",
      "        Block(\n",
      "          (lines): [\n",
      "            Line(\n",
      "              (words): [\n",
      "                Word(value='justf', confidence=0.97),\n",
      "                Word(value='for', confidence=1.0),\n",
      "                Word(value='use', confidence=1.0),\n",
      "                Word(value='in', confidence=0.9),\n",
      "                Word(value='the', confidence=0.99),\n",
      "                Word(value='Virtual', confidence=0.92),\n",
      "                Word(value='Mechanics', confidence=1.0),\n",
      "                Word(value='tutorials.', confidence=1.0),\n",
      "                Word(value='More', confidence=1.0),\n",
      "                Word(value='text.', confidence=0.77),\n",
      "                Word(value='And', confidence=1.0),\n",
      "                Word(value='more', confidence=1.0),\n",
      "              ]\n",
      "            ),\n",
      "            Line(\n",
      "              (words): [\n",
      "                Word(value='text.', confidence=0.94),\n",
      "                Word(value='And', confidence=0.94),\n",
      "                Word(value='more', confidence=1.0),\n",
      "                Word(value='text.', confidence=0.67),\n",
      "                Word(value='And', confidence=1.0),\n",
      "                Word(value='more', confidence=1.0),\n",
      "                Word(value='text.', confidence=0.9),\n",
      "                Word(value='And', confidence=0.98),\n",
      "                Word(value='more', confidence=1.0),\n",
      "                Word(value='text.', confidence=0.93),\n",
      "              ]\n",
      "            ),\n",
      "            Line(\n",
      "              (words): [\n",
      "                Word(value='And', confidence=0.91),\n",
      "                Word(value='more', confidence=0.98),\n",
      "                Word(value='text.', confidence=0.75),\n",
      "                Word(value='And', confidence=1.0),\n",
      "                Word(value='more', confidence=1.0),\n",
      "                Word(value='text.', confidence=0.93),\n",
      "                Word(value='And', confidence=1.0),\n",
      "                Word(value='more', confidence=1.0),\n",
      "                Word(value='text.', confidence=0.71),\n",
      "                Word(value='And', confidence=1.0),\n",
      "                Word(value='more', confidence=1.0),\n",
      "                Word(value='text..', confidence=0.75),\n",
      "                Word(value='And', confidence=1.0),\n",
      "                Word(value='more', confidence=1.0),\n",
      "              ]\n",
      "            ),\n",
      "            Line(\n",
      "              (words): [\n",
      "                Word(value='text.', confidence=0.89),\n",
      "                Word(value='And', confidence=0.99),\n",
      "                Word(value='more', confidence=0.96),\n",
      "                Word(value='text.', confidence=1.0),\n",
      "                Word(value='Boring,', confidence=0.99),\n",
      "                Word(value='ZZZZZ.', confidence=1.0),\n",
      "                Word(value='And', confidence=1.0),\n",
      "                Word(value='more', confidence=0.97),\n",
      "                Word(value='text.', confidence=0.93),\n",
      "                Word(value='And', confidence=1.0),\n",
      "                Word(value='more', confidence=1.0),\n",
      "                Word(value='text.', confidence=0.99),\n",
      "                Word(value='And', confidence=1.0),\n",
      "              ]\n",
      "            ),\n",
      "            Line(\n",
      "              (words): [\n",
      "                Word(value='more', confidence=1.0),\n",
      "                Word(value='text..', confidence=0.55),\n",
      "                Word(value='And', confidence=1.0),\n",
      "                Word(value='more', confidence=0.99),\n",
      "                Word(value='text.', confidence=0.58),\n",
      "                Word(value='And', confidence=1.0),\n",
      "                Word(value='more', confidence=0.96),\n",
      "                Word(value='text.', confidence=0.7),\n",
      "                Word(value='And', confidence=1.0),\n",
      "                Word(value='more', confidence=1.0),\n",
      "                Word(value='text.', confidence=1.0),\n",
      "                Word(value='And', confidence=0.96),\n",
      "                Word(value='more', confidence=0.97),\n",
      "                Word(value='text.', confidence=1.0),\n",
      "              ]\n",
      "            ),\n",
      "            Line(\n",
      "              (words): [\n",
      "                Word(value='And', confidence=1.0),\n",
      "                Word(value='more', confidence=0.99),\n",
      "                Word(value='text.', confidence=0.75),\n",
      "                Word(value='And', confidence=1.0),\n",
      "                Word(value='more', confidence=0.94),\n",
      "                Word(value='text.', confidence=0.98),\n",
      "                Word(value='And', confidence=0.85),\n",
      "                Word(value='more', confidence=0.97),\n",
      "                Word(value='text.', confidence=0.74),\n",
      "                Word(value='And', confidence=1.0),\n",
      "                Word(value='more', confidence=0.96),\n",
      "                Word(value='text.', confidence=0.69),\n",
      "                Word(value='And', confidence=0.93),\n",
      "                Word(value='more', confidence=1.0),\n",
      "              ]\n",
      "            ),\n",
      "            Line(\n",
      "              (words): [\n",
      "                Word(value='text.', confidence=0.59),\n",
      "                Word(value='And', confidence=0.99),\n",
      "                Word(value='more', confidence=1.0),\n",
      "                Word(value='text.', confidence=0.51),\n",
      "                Word(value='And', confidence=0.98),\n",
      "                Word(value='more', confidence=0.87),\n",
      "                Word(value='text.', confidence=1.0),\n",
      "                Word(value='Even', confidence=1.0),\n",
      "                Word(value='more.', confidence=0.99),\n",
      "                Word(value='Continued', confidence=1.0),\n",
      "                Word(value='on', confidence=1.0),\n",
      "                Word(value='page', confidence=1.0),\n",
      "                Word(value='2.', confidence=0.98),\n",
      "                Word(value=':', confidence=0.74),\n",
      "              ]\n",
      "            ),\n",
      "          ]\n",
      "          (artefacts): []\n",
      "        ),\n",
      "        Block(\n",
      "          (lines): [Line(\n",
      "            (words): [\n",
      "              Word(value='And', confidence=0.92),\n",
      "              Word(value='more', confidence=0.82),\n",
      "              Word(value='text.', confidence=0.75),\n",
      "              Word(value='And', confidence=1.0),\n",
      "              Word(value='more', confidence=0.94),\n",
      "              Word(value='text.', confidence=1.0),\n",
      "            ]\n",
      "          )]\n",
      "          (artefacts): []\n",
      "        ),\n",
      "      ]\n",
      "    ),\n",
      "    Page(\n",
      "      dimensions=(1584, 1224)\n",
      "      (blocks): [\n",
      "        Block(\n",
      "          (lines): [Line(\n",
      "            (words): [\n",
      "              Word(value='Simple', confidence=1.0),\n",
      "              Word(value='PDF', confidence=1.0),\n",
      "              Word(value='File', confidence=1.0),\n",
      "              Word(value='2', confidence=1.0),\n",
      "            ]\n",
      "          )]\n",
      "          (artefacts): []\n",
      "        ),\n",
      "        Block(\n",
      "          (lines): [\n",
      "            Line(\n",
      "              (words): [\n",
      "                Word(value='..continued', confidence=0.69),\n",
      "                Word(value='from', confidence=0.96),\n",
      "                Word(value='page', confidence=1.0),\n",
      "                Word(value='1.', confidence=0.99),\n",
      "                Word(value='Yet', confidence=1.0),\n",
      "                Word(value='more', confidence=0.97),\n",
      "                Word(value='text.', confidence=0.99),\n",
      "                Word(value='And', confidence=0.96),\n",
      "                Word(value='more', confidence=0.99),\n",
      "                Word(value='text.', confidence=0.85),\n",
      "                Word(value='And', confidence=1.0),\n",
      "                Word(value='more', confidence=0.99),\n",
      "                Word(value='text.', confidence=1.0),\n",
      "              ]\n",
      "            ),\n",
      "            Line(\n",
      "              (words): [\n",
      "                Word(value='And', confidence=1.0),\n",
      "                Word(value='more', confidence=0.99),\n",
      "                Word(value='text.', confidence=0.75),\n",
      "                Word(value='And', confidence=1.0),\n",
      "                Word(value='more', confidence=0.94),\n",
      "                Word(value='text.', confidence=0.96),\n",
      "                Word(value='And', confidence=0.85),\n",
      "                Word(value='more', confidence=1.0),\n",
      "                Word(value='text.', confidence=0.64),\n",
      "                Word(value='And', confidence=1.0),\n",
      "                Word(value='more', confidence=0.96),\n",
      "                Word(value='text.', confidence=0.83),\n",
      "                Word(value='And', confidence=0.76),\n",
      "                Word(value='more', confidence=1.0),\n",
      "              ]\n",
      "            ),\n",
      "            Line(\n",
      "              (words): [\n",
      "                Word(value='text.', confidence=0.98),\n",
      "                Word(value='Oh,', confidence=0.73),\n",
      "                Word(value='how', confidence=0.93),\n",
      "                Word(value='boring', confidence=1.0),\n",
      "                Word(value='typing', confidence=1.0),\n",
      "                Word(value='this', confidence=1.0),\n",
      "                Word(value='stuff.', confidence=1.0),\n",
      "                Word(value='But', confidence=0.98),\n",
      "                Word(value='not', confidence=0.57),\n",
      "                Word(value='as', confidence=1.0),\n",
      "                Word(value='boring', confidence=1.0),\n",
      "                Word(value='as', confidence=1.0),\n",
      "                Word(value='watching', confidence=1.0),\n",
      "              ]\n",
      "            ),\n",
      "            Line(\n",
      "              (words): [\n",
      "                Word(value='paint', confidence=1.0),\n",
      "                Word(value='dry.', confidence=0.92),\n",
      "                Word(value='And', confidence=1.0),\n",
      "                Word(value='more', confidence=1.0),\n",
      "                Word(value='text.', confidence=0.92),\n",
      "                Word(value='And', confidence=1.0),\n",
      "                Word(value='more', confidence=1.0),\n",
      "                Word(value='text.', confidence=0.98),\n",
      "                Word(value='And', confidence=0.85),\n",
      "                Word(value='more', confidence=1.0),\n",
      "                Word(value='text.', confidence=0.75),\n",
      "                Word(value='Andi', confidence=0.46),\n",
      "                Word(value='more', confidence=1.0),\n",
      "                Word(value='text.', confidence=0.5),\n",
      "              ]\n",
      "            ),\n",
      "            Line(\n",
      "              (words): [\n",
      "                Word(value='Boring.', confidence=0.99),\n",
      "                Word(value='More,', confidence=1.0),\n",
      "                Word(value='al', confidence=0.98),\n",
      "                Word(value='little', confidence=0.99),\n",
      "                Word(value='more', confidence=0.99),\n",
      "                Word(value='text.', confidence=1.0),\n",
      "                Word(value='The', confidence=1.0),\n",
      "                Word(value='end,', confidence=0.99),\n",
      "                Word(value='andj', confidence=0.96),\n",
      "                Word(value='just', confidence=0.58),\n",
      "                Word(value='as', confidence=0.99),\n",
      "                Word(value='well.', confidence=0.9),\n",
      "              ]\n",
      "            ),\n",
      "          ]\n",
      "          (artefacts): []\n",
      "        ),\n",
      "      ]\n",
      "    ),\n",
      "  ]\n",
      ")\n"
     ]
    }
   ],
   "source": [
    "result = predictor(doc)\n",
    "print(result)"
   ]
  },
  {
   "cell_type": "code",
   "execution_count": 39,
   "id": "58972a12-189a-46fc-b077-9572a807893c",
   "metadata": {},
   "outputs": [
    {
     "name": "stdout",
     "output_type": "stream",
     "text": [
      "__annotations__\n",
      "__class__\n",
      "__delattr__\n",
      "__dict__\n",
      "__dir__\n",
      "__doc__\n",
      "__eq__\n",
      "__format__\n",
      "__ge__\n",
      "__getattribute__\n",
      "__gt__\n",
      "__hash__\n",
      "__init__\n",
      "__init_subclass__\n",
      "__le__\n",
      "__lt__\n",
      "__module__\n",
      "__ne__\n",
      "__new__\n",
      "__reduce__\n",
      "__reduce_ex__\n",
      "__repr__\n",
      "__setattr__\n",
      "__sizeof__\n",
      "__str__\n",
      "__subclasshook__\n",
      "__weakref__\n",
      "_children_names\n",
      "_exported_keys\n",
      "export\n",
      "export_as_xml\n",
      "extra_repr\n",
      "from_dict\n",
      "pages\n",
      "render\n",
      "show\n",
      "synthesize\n"
     ]
    }
   ],
   "source": [
    "methods_and_attributes = dir(result)\n",
    "\n",
    "# Print the list\n",
    "for item in methods_and_attributes:\n",
    "    print(item)"
   ]
  },
  {
   "cell_type": "code",
   "execution_count": 42,
   "id": "b75460a9-bd08-4c84-9318-8c06a9883ca3",
   "metadata": {},
   "outputs": [
    {
     "name": "stdout",
     "output_type": "stream",
     "text": [
      "A Simple PDF File This is as small demonstration pdf file -  justf for use in the Virtual Mechanics tutorials. More text. And more text. And more text. And more text. And more text. And more text. And more text. And more text. And more text.. And more text. And more text. Boring, ZZZZZ. And more text. And more text. And more text.. And more text. And more text. And more text. And more text. And more text. And more text. And more text. And more text. And more text. And more text. And more text. Even more. Continued on page 2. :  And more text. And more text.    Simple PDF File 2  ..continued from page 1. Yet more text. And more text. And more text. And more text. And more text. And more text. And more text. And more text. Oh, how boring typing this stuff. But not as boring as watching paint dry. And more text. And more text. And more text. Andi more text. Boring. More, al little more text. The end, andj just as well.\n"
     ]
    }
   ],
   "source": [
    "pdf_render = result.render()\n",
    "\n",
    "cleaned_render = pdf_render.replace('\\n', ' ')\n",
    "print(cleaned_render)"
   ]
  },
  {
   "cell_type": "markdown",
   "id": "ebc038f7-90e1-4185-a6fe-c7fcc0624f31",
   "metadata": {},
   "source": [
    "### Fine-tune PDF content\n",
    "\n",
    "Remove garbage"
   ]
  },
  {
   "cell_type": "code",
   "execution_count": null,
   "id": "363d0e09-61a8-42c2-9b31-6ea136c67768",
   "metadata": {},
   "outputs": [],
   "source": []
  },
  {
   "cell_type": "code",
   "execution_count": null,
   "id": "e8691a3b-ffff-4ecf-b4e2-464b4ef6c6db",
   "metadata": {},
   "outputs": [],
   "source": []
  },
  {
   "cell_type": "code",
   "execution_count": null,
   "id": "00aeb392-b1af-4d6e-bd5c-fc5c00a8acc7",
   "metadata": {},
   "outputs": [],
   "source": []
  },
  {
   "cell_type": "code",
   "execution_count": null,
   "id": "64b32ec9-2479-4cd5-92e3-458ce9ba79de",
   "metadata": {},
   "outputs": [],
   "source": []
  },
  {
   "cell_type": "code",
   "execution_count": null,
   "id": "3dab3442-e16e-4998-b641-5bfb629ddc76",
   "metadata": {},
   "outputs": [],
   "source": []
  },
  {
   "cell_type": "markdown",
   "id": "ccc13f60-1ac6-479e-9d7e-7c21401063bf",
   "metadata": {},
   "source": [
    "## Image Input"
   ]
  },
  {
   "cell_type": "code",
   "execution_count": 21,
   "id": "21e8be7f-b3cb-4cba-8ebf-fa1a9e45a8b5",
   "metadata": {},
   "outputs": [
    {
     "data": {
      "application/vnd.jupyter.widget-view+json": {
       "model_id": "e679229eec04425f982507e8d656aa79",
       "version_major": 2,
       "version_minor": 0
      },
      "text/plain": [
       "Downloading (…)rocessor_config.json:   0%|          | 0.00/228 [00:00<?, ?B/s]"
      ]
     },
     "metadata": {},
     "output_type": "display_data"
    },
    {
     "name": "stderr",
     "output_type": "stream",
     "text": [
      "C:\\Users\\Lyle\\anaconda3\\lib\\site-packages\\huggingface_hub\\file_download.py:137: UserWarning: `huggingface_hub` cache-system uses symlinks by default to efficiently store duplicated files but your machine does not support them in C:\\Users\\Lyle\\.cache\\huggingface\\hub. Caching files will still work but in a degraded version that might require more space on your disk. This warning can be disabled by setting the `HF_HUB_DISABLE_SYMLINKS_WARNING` environment variable. For more details, see https://huggingface.co/docs/huggingface_hub/how-to-cache#limitations.\n",
      "To support symlinks on Windows, you either need to activate Developer Mode or to run Python as an administrator. In order to see activate developer mode, see this article: https://docs.microsoft.com/en-us/windows/apps/get-started/enable-your-device-for-development\n",
      "  warnings.warn(message)\n",
      "Could not find image processor class in the image processor config or the model config. Loading based on pattern matching with the model's feature extractor configuration.\n"
     ]
    },
    {
     "data": {
      "application/vnd.jupyter.widget-view+json": {
       "model_id": "5954ee5b199d4c7ea4deef1c2ad9a08f",
       "version_major": 2,
       "version_minor": 0
      },
      "text/plain": [
       "Downloading (…)okenizer_config.json:   0%|          | 0.00/1.12k [00:00<?, ?B/s]"
      ]
     },
     "metadata": {},
     "output_type": "display_data"
    },
    {
     "data": {
      "application/vnd.jupyter.widget-view+json": {
       "model_id": "538b74f44f6c4ee2aafec20802eb1ceb",
       "version_major": 2,
       "version_minor": 0
      },
      "text/plain": [
       "Downloading (…)olve/main/vocab.json:   0%|          | 0.00/899k [00:00<?, ?B/s]"
      ]
     },
     "metadata": {},
     "output_type": "display_data"
    },
    {
     "data": {
      "application/vnd.jupyter.widget-view+json": {
       "model_id": "e28d1c8c489c40bc848fea7ada3542fc",
       "version_major": 2,
       "version_minor": 0
      },
      "text/plain": [
       "Downloading (…)olve/main/merges.txt:   0%|          | 0.00/456k [00:00<?, ?B/s]"
      ]
     },
     "metadata": {},
     "output_type": "display_data"
    },
    {
     "data": {
      "application/vnd.jupyter.widget-view+json": {
       "model_id": "fed00bd4d51d4a99bfd96527deaf630e",
       "version_major": 2,
       "version_minor": 0
      },
      "text/plain": [
       "Downloading (…)cial_tokens_map.json:   0%|          | 0.00/772 [00:00<?, ?B/s]"
      ]
     },
     "metadata": {},
     "output_type": "display_data"
    },
    {
     "data": {
      "application/vnd.jupyter.widget-view+json": {
       "model_id": "77cb6f43dcbf46a9ac52ecb2d7bb6621",
       "version_major": 2,
       "version_minor": 0
      },
      "text/plain": [
       "Downloading (…)lve/main/config.json:   0%|          | 0.00/4.17k [00:00<?, ?B/s]"
      ]
     },
     "metadata": {},
     "output_type": "display_data"
    },
    {
     "data": {
      "application/vnd.jupyter.widget-view+json": {
       "model_id": "23aeb13a4e3f4527a7e52bf0c2b0037b",
       "version_major": 2,
       "version_minor": 0
      },
      "text/plain": [
       "Downloading pytorch_model.bin:   0%|          | 0.00/1.33G [00:00<?, ?B/s]"
      ]
     },
     "metadata": {},
     "output_type": "display_data"
    },
    {
     "name": "stderr",
     "output_type": "stream",
     "text": [
      "Some weights of VisionEncoderDecoderModel were not initialized from the model checkpoint at microsoft/trocr-base-handwritten and are newly initialized: ['encoder.pooler.dense.weight', 'encoder.pooler.dense.bias']\n",
      "You should probably TRAIN this model on a down-stream task to be able to use it for predictions and inference.\n"
     ]
    },
    {
     "data": {
      "application/vnd.jupyter.widget-view+json": {
       "model_id": "d789a149255a4b0f83dbc5df428a135d",
       "version_major": 2,
       "version_minor": 0
      },
      "text/plain": [
       "Downloading (…)neration_config.json:   0%|          | 0.00/190 [00:00<?, ?B/s]"
      ]
     },
     "metadata": {},
     "output_type": "display_data"
    },
    {
     "name": "stderr",
     "output_type": "stream",
     "text": [
      "C:\\Users\\Lyle\\anaconda3\\lib\\site-packages\\transformers\\generation\\utils.py:1260: UserWarning: Using the model-agnostic default `max_length` (=20) to control the generation length. We recommend setting `max_new_tokens` to control the maximum length of the generation.\n",
      "  warnings.warn(\n"
     ]
    }
   ],
   "source": [
    "from transformers import TrOCRProcessor, VisionEncoderDecoderModel\n",
    "import requests\n",
    "from PIL import Image\n",
    "\n",
    "processor = TrOCRProcessor.from_pretrained(\"microsoft/trocr-base-handwritten\")\n",
    "model = VisionEncoderDecoderModel.from_pretrained(\"microsoft/trocr-base-handwritten\")\n",
    "\n",
    "# load image from the IAM dataset\n",
    "url = \"https://fki.tic.heia-fr.ch/static/img/a01-122-02.jpg\"\n",
    "image = Image.open(requests.get(url, stream=True).raw).convert(\"RGB\")\n",
    "\n",
    "pixel_values = processor(image, return_tensors=\"pt\").pixel_values\n",
    "generated_ids = model.generate(pixel_values)\n",
    "\n",
    "generated_text = processor.batch_decode(generated_ids, skip_special_tokens=True)[0]"
   ]
  },
  {
   "cell_type": "code",
   "execution_count": 29,
   "id": "7e11287c-7b87-4190-8936-f8d839dfce6f",
   "metadata": {},
   "outputs": [
    {
     "data": {
      "image/png": "[encoded data removed]",
      "text/plain": [
       "<PIL.Image.Image image mode=RGB size=1024x100>"
      ]
     },
     "execution_count": 29,
     "metadata": {},
     "output_type": "execute_result"
    }
   ],
   "source": [
    "Image.open(requests.get(url, stream=True).raw).convert(\"RGB\")"
   ]
  },
  {
   "cell_type": "code",
   "execution_count": 22,
   "id": "5244278b-2cee-44b1-bc2b-e902145154f1",
   "metadata": {},
   "outputs": [
    {
     "name": "stdout",
     "output_type": "stream",
     "text": [
      "industry, \" Mr. Brown commented icily. \" Let us have a\n"
     ]
    }
   ],
   "source": [
    "print(generated_text)"
   ]
  },
  {
   "cell_type": "code",
   "execution_count": 32,
   "id": "7d7cf883-84f0-4631-ba77-88ad232d5977",
   "metadata": {},
   "outputs": [
    {
     "name": "stdout",
     "output_type": "stream",
     "text": [
      "['0-']\n"
     ]
    }
   ],
   "source": [
    "\n",
    "# load image from the IAM dataset\n",
    "image = Image.open(\"image_samples/image_with_handwritten_text.jpg\").convert(\"RGB\")\n",
    "\n",
    "pixel_values = processor(image, return_tensors=\"pt\").pixel_values\n",
    "generated_ids = model.generate(pixel_values)\n",
    "\n",
    "generated_text = processor.batch_decode(generated_ids, skip_special_tokens=True)\n",
    "print(generated_text)"
   ]
  },
  {
   "cell_type": "code",
   "execution_count": 27,
   "id": "9e00d8ce-5929-4cfa-8272-11b00e2de0bf",
   "metadata": {},
   "outputs": [
    {
     "data": {
      "image/png": "[encoded data removed]",
      "text/plain": [
       "<PIL.JpegImagePlugin.JpegImageFile image mode=RGB size=240x165>"
      ]
     },
     "execution_count": 31,
     "metadata": {},
     "output_type": "execute_result"
    }
   ],
   "source": [
    "image"
   ]
  },
  {
   "cell_type": "code",
   "execution_count": null,
   "id": "11a8cd3d-3e19-46f2-a17e-8c7cd9137342",
   "metadata": {},
   "outputs": [],
   "source": []
  },
  {
   "cell_type": "code",
   "execution_count": null,
   "id": "7ee8a527-d42b-40c8-b0fd-21ff985f6b5b",
   "metadata": {},
   "outputs": [],
   "source": []
  },
  {
   "cell_type": "markdown",
   "id": "0712942c-beb8-4822-8630-0b6c5b48eba7",
   "metadata": {
    "tags": []
   },
   "source": [
    "## Storing all types of material into one local database"
   ]
  },
  {
   "cell_type": "code",
   "execution_count": null,
   "id": "e982da11-dc37-44b0-8b16-c02376c13f38",
   "metadata": {},
   "outputs": [],
   "source": [
    "import pandas as pd"
   ]
  },
  {
   "cell_type": "code",
   "execution_count": 49,
   "id": "706738a8-4d21-4d54-99ee-baa5aaf3b34e",
   "metadata": {},
   "outputs": [],
   "source": [
    "\n",
    "# Create an initial DataFrame\n",
    "materials_df = pd.DataFrame(columns=['Note'])\n",
    "\n",
    "def append_to_materials_df(new_note):\n",
    "    global materials_df\n",
    "    \n",
    "    materials_df = materials_df.append({'Note': new_note}, ignore_index=True)\n",
    "\n"
   ]
  },
  {
   "cell_type": "markdown",
   "id": "5a9e122e-a2f5-4a01-b85e-a3dbb9033931",
   "metadata": {},
   "source": [
    "### Defining functions"
   ]
  },
  {
   "cell_type": "code",
   "execution_count": 73,
   "id": "bf0a046d-65bb-4134-9ef8-e5b5fb47ea47",
   "metadata": {},
   "outputs": [],
   "source": [
    "def append_text_note():\n",
    "    note = input(\"Insert text note: \")\n",
    "    append_to_materials_df(note)\n",
    "    print(f\"Added note: {note}\")\n",
    "    \n",
    "    \n",
    "def append_recording_note(audio_file_path):\n",
    "    note = asr(audio_file_path)['text'].lower()\n",
    "    append_to_materials_df(note)\n",
    "    print(f\"Added note: {note}\")\n",
    "    \n",
    "    \n",
    "def append_pdf_note(pdf_file_path):\n",
    "    doc = DocumentFile.from_pdf(pdf_file_path)\n",
    "    result = predictor(doc)\n",
    "    pdf_render = result.render()\n",
    "    note = pdf_render.replace('\\n', ' ')\n",
    "    append_to_materials_df(note)\n",
    "    print(f\"Added note: {note}\")\n",
    "    "
   ]
  },
  {
   "cell_type": "code",
   "execution_count": null,
   "id": "8f79260c-41d6-4df1-98ab-c57768441869",
   "metadata": {},
   "outputs": [],
   "source": [
    "append_text_note()"
   ]
  },
  {
   "cell_type": "code",
   "execution_count": 76,
   "id": "56b12970-3315-457c-a058-dcdf02765018",
   "metadata": {},
   "outputs": [
    {
     "name": "stdout",
     "output_type": "stream",
     "text": [
      "Added note: my thought i have nobody by a beauty and will as you poured mister rochester is sub and that so don't fine sempest and devoted ta bowd to what might in a\n"
     ]
    },
    {
     "name": "stderr",
     "output_type": "stream",
     "text": [
      "C:\\Users\\Lyle\\AppData\\Local\\Temp\\ipykernel_15220\\3333177615.py:7: FutureWarning: The frame.append method is deprecated and will be removed from pandas in a future version. Use pandas.concat instead.\n",
      "  materials_df = materials_df.append({'Note': new_note}, ignore_index=True)\n"
     ]
    }
   ],
   "source": [
    "append_recording_note(\"audio_samples/sample-0.mp3\")"
   ]
  },
  {
   "cell_type": "code",
   "execution_count": 74,
   "id": "3cd4279f-b565-4319-ae80-69a8f73a0c84",
   "metadata": {},
   "outputs": [
    {
     "name": "stdout",
     "output_type": "stream",
     "text": [
      "Added note: A Simple PDF File This is as small demonstration pdf file -  justf for use in the Virtual Mechanics tutorials. More text. And more text. And more text. And more text. And more text. And more text. And more text. And more text. And more text.. And more text. And more text. Boring, ZZZZZ. And more text. And more text. And more text.. And more text. And more text. And more text. And more text. And more text. And more text. And more text. And more text. And more text. And more text. And more text. Even more. Continued on page 2. :  And more text. And more text.    Simple PDF File 2  ..continued from page 1. Yet more text. And more text. And more text. And more text. And more text. And more text. And more text. And more text. Oh, how boring typing this stuff. But not as boring as watching paint dry. And more text. And more text. And more text. Andi more text. Boring. More, al little more text. The end, andj just as well.\n"
     ]
    },
    {
     "name": "stderr",
     "output_type": "stream",
     "text": [
      "C:\\Users\\Lyle\\AppData\\Local\\Temp\\ipykernel_15220\\3333177615.py:7: FutureWarning: The frame.append method is deprecated and will be removed from pandas in a future version. Use pandas.concat instead.\n",
      "  materials_df = materials_df.append({'Note': new_note}, ignore_index=True)\n"
     ]
    }
   ],
   "source": [
    "append_pdf_note(\"pdf_samples/pdf_sample.pdf\")"
   ]
  },
  {
   "cell_type": "code",
   "execution_count": 77,
   "id": "99493571-0843-41ea-bab2-6b6addf57546",
   "metadata": {},
   "outputs": [
    {
     "data": {
      "text/html": [
       "<div>\n",
       "<style scoped>\n",
       "    .dataframe tbody tr th:only-of-type {\n",
       "        vertical-align: middle;\n",
       "    }\n",
       "\n",
       "    .dataframe tbody tr th {\n",
       "        vertical-align: top;\n",
       "    }\n",
       "\n",
       "    .dataframe thead th {\n",
       "        text-align: right;\n",
       "    }\n",
       "</style>\n",
       "<table border=\"1\" class=\"dataframe\">\n",
       "  <thead>\n",
       "    <tr style=\"text-align: right;\">\n",
       "      <th></th>\n",
       "      <th>Note</th>\n",
       "    </tr>\n",
       "  </thead>\n",
       "  <tbody>\n",
       "    <tr>\n",
       "      <th>0</th>\n",
       "      <td>this is a text note</td>\n",
       "    </tr>\n",
       "    <tr>\n",
       "      <th>1</th>\n",
       "      <td>adada</td>\n",
       "    </tr>\n",
       "    <tr>\n",
       "      <th>2</th>\n",
       "      <td>my thought i have nobody by a beauty and will ...</td>\n",
       "    </tr>\n",
       "    <tr>\n",
       "      <th>3</th>\n",
       "      <td>A Simple PDF File This is as small demonstrati...</td>\n",
       "    </tr>\n",
       "    <tr>\n",
       "      <th>4</th>\n",
       "      <td>my thought i have nobody by a beauty and will ...</td>\n",
       "    </tr>\n",
       "  </tbody>\n",
       "</table>\n",
       "</div>"
      ],
      "text/plain": [
       "                                                Note\n",
       "0                                this is a text note\n",
       "1                                              adada\n",
       "2  my thought i have nobody by a beauty and will ...\n",
       "3  A Simple PDF File This is as small demonstrati...\n",
       "4  my thought i have nobody by a beauty and will ..."
      ]
     },
     "execution_count": 77,
     "metadata": {},
     "output_type": "execute_result"
    }
   ],
   "source": [
    "materials_df.head()"
   ]
  },
  {
   "cell_type": "markdown",
   "id": "8cc4d119-09dc-4796-a784-8b776d1b29be",
   "metadata": {},
   "source": [
    "# Process the notes"
   ]
  },
  {
   "cell_type": "markdown",
   "id": "aa48f69a-0185-47b9-8972-aa62ff3fca62",
   "metadata": {},
   "source": [
    "## Summarization"
   ]
  },
  {
   "cell_type": "code",
   "execution_count": 83,
   "id": "c8fde943-b9a7-4177-b9d7-1a5f52081e1c",
   "metadata": {},
   "outputs": [
    {
     "name": "stdout",
     "output_type": "stream",
     "text": [
      "[{'summary_text': 'Liana Barrientos, 39, has been married 10 times, nine of them between 1999 and 2002. She is believed to still be married to four men, and at one time, she was married to eight men at once. She pleaded not guilty at State Supreme Court in the Bronx on Friday.'}]\n"
     ]
    }
   ],
   "source": [
    "from transformers import pipeline\n",
    "\n",
    "summarizer = pipeline(\"summarization\", model=\"facebook/bart-large-cnn\")\n",
    "\n",
    "ARTICLE = \"\"\" New York (CNN)When Liana Barrientos was 23 years old, she got married in Westchester County, New York.\n",
    "A year later, she got married again in Westchester County, but to a different man and without divorcing her first husband.\n",
    "Only 18 days after that marriage, she got hitched yet again. Then, Barrientos declared \"I do\" five more times, sometimes only within two weeks of each other.\n",
    "In 2010, she married once more, this time in the Bronx. In an application for a marriage license, she stated it was her \"first and only\" marriage.\n",
    "Barrientos, now 39, is facing two criminal counts of \"offering a false instrument for filing in the first degree,\" referring to her false statements on the\n",
    "2010 marriage license application, according to court documents.\n",
    "Prosecutors said the marriages were part of an immigration scam.\n",
    "On Friday, she pleaded not guilty at State Supreme Court in the Bronx, according to her attorney, Christopher Wright, who declined to comment further.\n",
    "After leaving court, Barrientos was arrested and charged with theft of service and criminal trespass for allegedly sneaking into the New York subway through an emergency exit, said Detective\n",
    "Annette Markowski, a police spokeswoman. In total, Barrientos has been married 10 times, with nine of her marriages occurring between 1999 and 2002.\n",
    "All occurred either in Westchester County, Long Island, New Jersey or the Bronx. She is believed to still be married to four men, and at one time, she was married to eight men at once, prosecutors say.\n",
    "Prosecutors said the immigration scam involved some of her husbands, who filed for permanent residence status shortly after the marriages.\n",
    "Any divorces happened only after such filings were approved. It was unclear whether any of the men will be prosecuted.\n",
    "The case was referred to the Bronx District Attorney\\'s Office by Immigration and Customs Enforcement and the Department of Homeland Security\\'s\n",
    "Investigation Division. Seven of the men are from so-called \"red-flagged\" countries, including Egypt, Turkey, Georgia, Pakistan and Mali.\n",
    "Her eighth husband, Rashid Rajput, was deported in 2006 to his native Pakistan after an investigation by the Joint Terrorism Task Force.\n",
    "If convicted, Barrientos faces up to four years in prison.  Her next court appearance is scheduled for May 18.\n",
    "\"\"\"\n",
    "print(summarizer(ARTICLE, max_length=130, min_length=30, do_sample=True))\n"
   ]
  },
  {
   "cell_type": "code",
   "execution_count": 85,
   "id": "ffa605ea-62a6-42d8-a725-bb2dd2c50cad",
   "metadata": {},
   "outputs": [
    {
     "name": "stdout",
     "output_type": "stream",
     "text": [
      "[{'summary_text': 'Chronicles of Evermore is a story of magic, destiny, and the enduring power of a young girl. Elara is a chosen one, marked by the celestial alignment and possessing the power to bridge the realms of magic and reality. She is guided by a spectral white wolf that materialized in her dreams.'}]\n"
     ]
    }
   ],
   "source": [
    "from transformers import pipeline\n",
    "\n",
    "summarizer = pipeline(\"summarization\", model=\"facebook/bart-large-cnn\")\n",
    "\n",
    "ARTICLE = \"\"\" \n",
    "In the small village of Evermore nestled between rolling hills and ancient forests, lived a young orphan named Elara. Known for her striking emerald-green eyes and an uncanny connection to nature, Elara's presence seemed to bring a sense of tranquility to the quaint village. Yet, her mysterious past remained veiled in uncertainty, leaving the villagers to wonder about the origins of the girl with the gift.\n",
    "\n",
    "One fateful day, as the sun dipped below the horizon, a cloaked figure arrived in Evermore, carrying tidings of a forgotten prophecy. It spoke of a chosen one, marked by the celestial alignment and possessing the power to bridge the realms of magic and reality. Whispers echoed through the village, and soon, eyes turned to Elara. Could she be the one destined to bring balance to the world?\n",
    "\n",
    "As Elara grappled with the weight of destiny, she began to experience visions – glimpses into a magical realm that existed parallel to her own. It was a place of mythical creatures, enchanted landscapes, and a looming darkness threatening to engulf both worlds. Guided by a spectral white wolf that materialized in her dreams, Elara set forth on a quest to unravel the secrets of her past and prevent an impending catastrophe.\n",
    "\n",
    "Her journey led her through mystical forests guarded by ancient spirits, across ethereal plains where time seemed to dance to the rhythm of a forgotten song, and into hidden caves where wise sorcerers imparted ancient knowledge. Along the way, Elara discovered the extent of her powers – the ability to communicate with creatures of the magical realm and harness the elemental forces that coursed through her veins.\n",
    "\n",
    "Yet, the path was not without challenges. Dark forces, aware of Elara's existence, sought to extinguish the light she carried. A malevolent sorcerer named Morgrim, fueled by a thirst for dominion over both realms, emerged as the primary antagonist. Elara's encounters with Morgrim were fraught with peril, each confrontation revealing more about the connection between their destinies.\n",
    "\n",
    "In her quest for answers, Elara encountered allies from diverse backgrounds – a charismatic rogue with a knack for illusions, a stoic elf skilled in archery and ancient lore, and a gentle healer with the power to mend both physical and spiritual wounds. Together, they formed an unlikely fellowship, bound by a shared purpose to thwart Morgrim's sinister ambitions.\n",
    "\n",
    "As the celestial alignment drew near, tensions escalated, and the boundaries between the magical and mortal realms blurred. Elara's journey reached its climax in the heart of the mystical Eldertree, where the convergence of magic and reality would determine the fate of both worlds. In a climactic battle against Morgrim, Elara tapped into the depths of her power, guided by the spirits of the ancients and the unbreakable bonds forged with her newfound companions.\n",
    "\n",
    "In the aftermath of the confrontation, as the sun dawned on a world forever changed, Elara found herself at the crossroads of two realms. The celestial alignment, having fulfilled its purpose, faded into memory, and the village of Evermore returned to its peaceful existence. Yet, Elara knew that her journey was far from over. With the magical realm now intricately woven into the fabric of her world, she embraced her role as a guardian of the balance between magic and reality.\n",
    "\n",
    "And so, the Chronicles of Evermore continued, a tale etched into the annals of history, a story of magic, destiny, and the enduring power of a young girl who discovered her extraordinary purpose in the heart of an enchanting adventure.\n",
    "\"\"\"\n",
    "\n",
    "print(summarizer(ARTICLE, max_length=130, min_length=30, do_sample=True))\n"
   ]
  },
  {
   "cell_type": "code",
   "execution_count": null,
   "id": "3d29e026-8be6-43a7-b74a-233c895f6b50",
   "metadata": {},
   "outputs": [],
   "source": []
  },
  {
   "cell_type": "code",
   "execution_count": null,
   "id": "7bdf6083-f246-4a21-b5e6-e2872390759c",
   "metadata": {},
   "outputs": [],
   "source": []
  },
  {
   "cell_type": "code",
   "execution_count": null,
   "id": "edac7612-b471-4c5a-932f-7037309da464",
   "metadata": {},
   "outputs": [],
   "source": []
  },
  {
   "cell_type": "markdown",
   "id": "f2e886c5-946d-46b0-8834-c5f023be88bb",
   "metadata": {},
   "source": [
    "# Output"
   ]
  },
  {
   "cell_type": "code",
   "execution_count": null,
   "id": "9da55e14-e313-4893-93e2-27dc36aa4dd9",
   "metadata": {},
   "outputs": [],
   "source": []
  }
 ],
 "metadata": {
  "kernelspec": {
   "display_name": "Python 3 (ipykernel)",
   "language": "python",
   "name": "python3"
  },
  "language_info": {
   "codemirror_mode": {
    "name": "ipython",
    "version": 3
   },
   "file_extension": ".py",
   "mimetype": "text/x-python",
   "name": "python",
   "nbconvert_exporter": "python",
   "pygments_lexer": "ipython3",
   "version": "3.9.12"
  }
 },
 "nbformat": 4,
 "nbformat_minor": 5
}
